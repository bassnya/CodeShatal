{
 "cells": [
  {
   "cell_type": "markdown",
   "metadata": {},
   "source": [
    "### Сортировка файлов по размеру\n",
    "\n",
    "Напишите программу, которая сортирует файлы в данной директории по размеру (от меньшего к большему). Для этого неплохо было бы несколько файлов или создать вручную, если в директории с этой тетрадкой кроме нее ничего нет, либо перенести несколько случайных файлов в нее, после чего можно будет проверить работу кода. По итогу вы должны вывести список файлов директории с заданным ранее условием"
   ]
  },
  {
   "cell_type": "code",
   "execution_count": 6,
   "metadata": {},
   "outputs": [
    {
     "name": "stdout",
     "output_type": "stream",
     "text": [
      "A: 0 байт\n",
      "Носки моща.txt: 1422 байт\n",
      "Python_DZ_Modul__03_Cikly.ipynb: 3607 байт\n",
      "HW_2024_09_18.ipynb: 5214 байт\n",
      "Homework_2024_09_25.ipynb: 6564 байт\n",
      "АлгоритмыДз.txt: 7376 байт\n",
      "HW_2024_09_16.ipynb: 9042 байт\n",
      "АлгоритмыДЗ.ipynb: 11090 байт\n",
      "АлгоритмыДЗ.odt: 12914 байт\n"
     ]
    }
   ],
   "source": [
    "import os\n",
    "\n",
    "files = os.listdir()\n",
    "\n",
    "file_sizes = {}\n",
    "\n",
    "for file in files:\n",
    "    file_path = os.path.join(os.getcwd(), file)\n",
    "    file_size = os.path.getsize(file_path)\n",
    "    file_sizes[file] = file_size\n",
    "\n",
    "sorted_files = sorted(file_sizes.items(), key=lambda x: x[1])\n",
    "\n",
    "for file, size in sorted_files:\n",
    "    print(f\"{file}: {size} байт\")"
   ]
  },
  {
   "cell_type": "markdown",
   "metadata": {},
   "source": [
    "### Создание директорий\n",
    "\n",
    "Напишите программу, которая создает серию вложенных директорий с использованием цикла. Например, создать директорию \"А\", в которой будет лежать директория \"B\", в которой будет лежать директория \"C\" (названия директорий латиницей). В конце вы должны вывести, что содержится в каждой из этих директорий"
   ]
  },
  {
   "cell_type": "code",
   "execution_count": 5,
   "metadata": {},
   "outputs": [
    {
     "name": "stdout",
     "output_type": "stream",
     "text": [
      "Created directory: A\n",
      "Created directory: A\\B\n",
      "Created directory: A\\B\\C\n",
      "Created directory: A\\B\\C\\D\n",
      "Created directory: A\\B\\C\\D\\E\n",
      "Contents of A: ['B']\n",
      "Contents of B: ['C']\n",
      "Contents of C: ['D']\n",
      "Contents of D: ['E']\n",
      "Contents of E: []\n"
     ]
    }
   ],
   "source": [
    "import os\n",
    "\n",
    "dir_names = ['A', 'B', 'C', 'D', 'E']\n",
    "\n",
    "for i, dir_name in enumerate(dir_names):\n",
    "    dir_path = os.path.join(*dir_names[:i+1])\n",
    "    os.makedirs(dir_path, exist_ok=True)\n",
    "    print(f\"Created directory: {dir_path}\")\n",
    "\n",
    "for dir_name in dir_names:\n",
    "    dir_path = os.path.join(*dir_names[:dir_names.index(dir_name)+1])\n",
    "    contents = os.listdir(dir_path)\n",
    "    print(f\"Contents of {dir_name}: {contents}\")"
   ]
  },
  {
   "cell_type": "markdown",
   "metadata": {},
   "source": [
    "### Поиск файлов по расширению\n",
    "\n",
    "Напишите программу, которая выводит имена всех файлов с расширением, например, \".txt\" в определенной директории и всех поддиректориях"
   ]
  },
  {
   "cell_type": "code",
   "execution_count": 7,
   "metadata": {},
   "outputs": [
    {
     "name": "stdout",
     "output_type": "stream",
     "text": [
      ".\\АлгоритмыДз.txt\n",
      ".\\Носки моща.txt\n"
     ]
    }
   ],
   "source": [
    "import os\n",
    "\n",
    "directory = '.'\n",
    "extension = '.txt'\n",
    "\n",
    "for root, dirs, files in os.walk(directory):\n",
    "    for file in files:\n",
    "        if file.endswith(extension):\n",
    "            print(os.path.join(root, file))"
   ]
  },
  {
   "cell_type": "markdown",
   "metadata": {},
   "source": [
    "### Получение информации о файле\n",
    "\n",
    "Напишите программу, которая выводит информацию о файле: имя, размер, дату модификации, тип файла (файл/директория)"
   ]
  },
  {
   "cell_type": "code",
   "execution_count": 16,
   "metadata": {},
   "outputs": [
    {
     "name": "stdout",
     "output_type": "stream",
     "text": [
      "Имя файла: АлгоритмыДз.txt\n",
      "Размер файла: 7376 байт\n",
      "Дата модификации: 1726792822.0644908\n",
      "Тип файла: Файл\n"
     ]
    }
   ],
   "source": [
    "import os\n",
    "\n",
    "file_name = input(\"Введите имя файла: \")\n",
    "\n",
    "try:\n",
    "    print(f\"Имя файла: {file_name}\")\n",
    "    print(f\"Размер файла: {os.path.getsize(file_name)} байт\")\n",
    "    print(f\"Дата модификации: {os.path.getmtime(file_name)}\")\n",
    "    print(f\"Тип файла: {'Файл' if os.path.isfile(file_name) else 'Директория'}\")\n",
    "except FileNotFoundError:\n",
    "    print(\"Файл не найден\")"
   ]
  },
  {
   "cell_type": "markdown",
   "metadata": {},
   "source": [
    "### Проверка e-mail адреса\n",
    "\n",
    "Напишите программу, которая запрашивает у пользователя ввести e-mail адрес и проверяет введенную строку с помощью регулярных выражений, является ли она типовым e-mail адресом. В случае, если да, программа должны вывести \"Всё верно\", если же нет, то \"Вы допустили ошибку в e-mail адресе\""
   ]
  },
  {
   "cell_type": "code",
   "execution_count": 17,
   "metadata": {},
   "outputs": [
    {
     "name": "stdout",
     "output_type": "stream",
     "text": [
      "Всё верно\n"
     ]
    }
   ],
   "source": [
    "import re\n",
    "\n",
    "email = input(\"Введите e-mail адрес: \")\n",
    "\n",
    "pattern = r\"^[a-zA-Z0-9_.+-]+@[a-zA-Z0-9-]+\\.[a-zA-Z0-9-.]+$\"\n",
    "\n",
    "if re.match(pattern, email):\n",
    "    print(\"Всё верно\")\n",
    "else:\n",
    "    print(\"Вы допустили ошибку в e-mail адресе\")"
   ]
  }
 ],
 "metadata": {
  "kernelspec": {
   "display_name": "Python 3",
   "language": "python",
   "name": "python3"
  },
  "language_info": {
   "codemirror_mode": {
    "name": "ipython",
    "version": 3
   },
   "file_extension": ".py",
   "mimetype": "text/x-python",
   "name": "python",
   "nbconvert_exporter": "python",
   "pygments_lexer": "ipython3",
   "version": "3.12.5"
  }
 },
 "nbformat": 4,
 "nbformat_minor": 2
}
