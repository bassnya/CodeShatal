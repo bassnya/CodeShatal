{
 "cells": [
  {
   "cell_type": "markdown",
   "metadata": {},
   "source": [
    "### Выполните все задания"
   ]
  },
  {
   "cell_type": "markdown",
   "metadata": {},
   "source": [
    "**1. Переменные и типы данных:**\n",
    "\n",
    "   * Создайте переменную `name` и присвойте ей ваше имя в виде строки.\n",
    "   * Создайте переменную `age` и присвойте ей ваш возраст в виде целого числа.\n",
    "   * Создайте переменную `is_student` и присвойте ей значение `True`, если вы студент (не Академии ТОР, а вуза), и `False` в противном случае.\n",
    "   * Выведите на экран значения всех трех переменных, используя функцию `print()`.\n",
    "   * Измените значение переменной `age` на новое число и снова выведите ее на экран."
   ]
  },
  {
   "cell_type": "code",
   "execution_count": 1,
   "metadata": {},
   "outputs": [
    {
     "name": "stdout",
     "output_type": "stream",
     "text": [
      "Name: Gleb\n",
      "Age: 38\n",
      "Is student: False\n",
      "New age: 39\n"
     ]
    }
   ],
   "source": [
    "name = \"Gleb\"\n",
    "age = 38\n",
    "is_student = False\n",
    "\n",
    "print(\"Name:\", name)\n",
    "print(\"Age:\", age)\n",
    "print(\"Is student:\", is_student)\n",
    "\n",
    "age = 39\n",
    "\n",
    "print(\"New age:\", age)"
   ]
  },
  {
   "cell_type": "markdown",
   "metadata": {},
   "source": [
    "**2. Математические операции:**\n",
    "\n",
    "   * Создайте переменные `a` и `b` и присвойте им значения 5 и 10 соответственно.\n",
    "   * Вычислите сумму, разность, произведение и частное от деления переменных `a` и `b`.\n",
    "   * Используйте оператор модуля (%), чтобы найти остаток от деления `b` на `a`.\n",
    "   * Выведите на экран результаты всех операций."
   ]
  },
  {
   "cell_type": "code",
   "execution_count": 2,
   "metadata": {},
   "outputs": [
    {
     "name": "stdout",
     "output_type": "stream",
     "text": [
      "Sum: 15\n",
      "Difference: -5\n",
      "Product: 50\n",
      "Division: 2.0\n",
      "Modulus: 0\n"
     ]
    }
   ],
   "source": [
    "a = 5\n",
    "b = 10\n",
    "\n",
    "sum_ab = a + b\n",
    "\n",
    "diff_ab = a - b\n",
    "\n",
    "prod_ab = a * b\n",
    "\n",
    "div_ab = b / a\n",
    "\n",
    "mod_ab = b % a\n",
    "\n",
    "print(\"Sum:\", sum_ab)\n",
    "print(\"Difference:\", diff_ab)\n",
    "print(\"Product:\", prod_ab)\n",
    "print(\"Division:\", div_ab)\n",
    "print(\"Modulus:\", mod_ab)"
   ]
  },
  {
   "cell_type": "markdown",
   "metadata": {},
   "source": [
    "**3. Строковые операции:**\n",
    "\n",
    "   * Создайте переменную `message` и присвойте ей строку \"Привет, мир!\".\n",
    "   * Используйте метод `upper()` для преобразования строки в верхний регистр.\n",
    "   * Используйте метод `lower()` для преобразования строки в нижний регистр.\n",
    "   * Используйте метод `replace()` для замены слова \"мир\" на \"вселенная\" в строке.\n",
    "   * Выведите на экран все полученные результаты."
   ]
  },
  {
   "cell_type": "code",
   "execution_count": null,
   "metadata": {},
   "outputs": [],
   "source": [
    "message = \"Привет, мир!\"\n",
    "message_upper = message.upper()\n",
    "message_lower = message.lower()\n",
    "message_replaced = message.replace(\"мир\", \"вселенная\")\n",
    "\n",
    "print(\"Original message:\", message)\n",
    "print(\"Upper case:\", message_upper)\n",
    "print(\"Lower case:\", message_lower)\n",
    "print(\"Replaced message:\", message_replaced)"
   ]
  },
  {
   "cell_type": "markdown",
   "metadata": {},
   "source": [
    "**4. Ввод и вывод:**\n",
    "\n",
    "   * Используйте функцию `input()` для получения имени пользователя с клавиатуры.\n",
    "   * Сохраните введенное имя в переменную `username`.\n",
    "   * Используйте функцию `print()` для вывода приветствия пользователю, используя его имя.\n",
    "   * Например, если пользователь введет \"Иван\", вы должны вывести \"Привет, Иван!\"."
   ]
  },
  {
   "cell_type": "code",
   "execution_count": 1,
   "metadata": {},
   "outputs": [
    {
     "name": "stdout",
     "output_type": "stream",
     "text": [
      "Привет, Иван!\n"
     ]
    }
   ],
   "source": [
    "username = input(\"Введите ваше имя: \")\n",
    "\n",
    "print(\"Привет, \" + username + \"!\")\n"
   ]
  },
  {
   "cell_type": "markdown",
   "metadata": {},
   "source": [
    "**5. Дополнительные задания:**\n",
    "\n",
    "   * Создайте список с различными типами данных (например, строка, целое число, список, словарь).\n",
    "   * Добавьте в список новый элемент.\n",
    "   * Удалите элемент из списка.\n",
    "   * Измените значение элемента в списке.\n",
    "   * Предложите пользователю ввести что-то и пусть его ввод добавится в конец списка\n",
    "   * Выведите на экран содержимое списка."
   ]
  },
  {
   "cell_type": "code",
   "execution_count": 1,
   "metadata": {},
   "outputs": [
    {
     "name": "stdout",
     "output_type": "stream",
     "text": [
      "['goodbye', [1, 2, 3], {'name': 'John', 'age': 30}, 'new element', '34']\n"
     ]
    }
   ],
   "source": [
    "my_list = [\"hello\", 123, [1, 2, 3], {\"name\": \"John\", \"age\": 30}]\n",
    "\n",
    "# Добавляем новый элемент\n",
    "my_list.append(\"new element\")\n",
    "\n",
    "# Удаляем элемент из списка\n",
    "#del my_list[1]\n",
    "\n",
    "my_list.pop(1)\n",
    "\n",
    "# Изменяем значение элемента\n",
    "my_list[0] = \"goodbye\"\n",
    "\n",
    "# Предлагаем пользователю ввести что-то и добавляем его ввод в конец списка\n",
    "user_input = input(\"Введите что-то: \")\n",
    "my_list.append(user_input)\n",
    "\n",
    "print(my_list)"
   ]
  },
  {
   "cell_type": "markdown",
   "metadata": {},
   "source": [
    "#### Выполненную тетрадку загрузить на свой гитхаб в папку \"HW_2024_09_16\" и скинуть мне ссылку на нее."
   ]
  }
 ],
 "metadata": {
  "kernelspec": {
   "display_name": "Python 3",
   "language": "python",
   "name": "python3"
  },
  "language_info": {
   "codemirror_mode": {
    "name": "ipython",
    "version": 3
   },
   "file_extension": ".py",
   "mimetype": "text/x-python",
   "name": "python",
   "nbconvert_exporter": "python",
   "pygments_lexer": "ipython3",
   "version": "3.12.6"
  },
  "vscode": {
   "interpreter": {
    "hash": "5d1839c54e4e3a571f42bbceb524296e7db56ab4ee5355af498841538456c577"
   }
  }
 },
 "nbformat": 4,
 "nbformat_minor": 2
}
