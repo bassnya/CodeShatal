{
 "cells": [
  {
   "attachments": {},
   "cell_type": "markdown",
   "metadata": {},
   "source": [
    "Задание 1\n",
    "Пользователь вводит с клавиатуры строку. Проверьте\n",
    "является ли введенная строка палиндромом. Палинслева направо и справа налево. Например, кок; А роза\n",
    "упала на лапу Азора; доход; А буду я у дуба."
   ]
  },
  {
   "cell_type": "code",
   "execution_count": 12,
   "metadata": {},
   "outputs": [
    {
     "name": "stdout",
     "output_type": "stream",
     "text": [
      "Строка является палиндромом.\n"
     ]
    }
   ],
   "source": [
    "import re\n",
    "\n",
    "input_user = input(\"Введите строку: \")\n",
    "if input_user.strip() == \"\":  #проверка на пустую строку\n",
    "    print(\"Вы не ввели строку!\")\n",
    "else:\n",
    "    s = re.sub(r'\\W+', '', input_user).lower()  # удаляем пробелы и выравниваем регистр\n",
    "    if s == s[::-1]:\n",
    "        print(\"Строка является палиндромом.\")\n",
    "    else:\n",
    "        print(\"Строка не является палиндромом.\")"
   ]
  },
  {
   "attachments": {},
   "cell_type": "markdown",
   "metadata": {},
   "source": [
    "Задание 2\n",
    "Пользователь вводит с клавиатуры некоторый текст,\n",
    "после чего пользователь вводит список зарезервированных\n",
    "слов. Необходимо найти в тексте все зарезервированные\n",
    "слова и изменить их регистр на верхний. Вывести на\n",
    "экран измененный текст."
   ]
  },
  {
   "cell_type": "code",
   "execution_count": 13,
   "metadata": {},
   "outputs": [
    {
     "name": "stdout",
     "output_type": "stream",
     "text": [
      "дом труба ШАТАЛ ШАТАЛ ШАТАЛ\n"
     ]
    }
   ],
   "source": [
    "phrase = input(\"Введите текст: \").lower().split()\n",
    "words = input(\"Введите нужные слова: \").lower().split()\n",
    "for i, w in enumerate(phrase):\n",
    "    if w in words:\n",
    "        phrase[i] = w.upper()\n",
    "print(\" \".join(phrase))"
   ]
  },
  {
   "attachments": {},
   "cell_type": "markdown",
   "metadata": {},
   "source": [
    "Задание 3\n",
    "Есть некоторый текст. Посчитайте в этом тексте количество предложений и выведите на экран полученный\n",
    "результат."
   ]
  },
  {
   "cell_type": "code",
   "execution_count": 14,
   "metadata": {},
   "outputs": [
    {
     "name": "stdout",
     "output_type": "stream",
     "text": [
      "26\n"
     ]
    }
   ],
   "source": [
    "text = input()\n",
    "sentences = text.replace('?', '.').replace('!', '.').split('.')\n",
    "count = sum(1 for sentence in sentences if sentence.strip())\n",
    "print(count)"
   ]
  }
 ],
 "metadata": {
  "kernelspec": {
   "display_name": "Python 3",
   "language": "python",
   "name": "python3"
  },
  "language_info": {
   "codemirror_mode": {
    "name": "ipython",
    "version": 3
   },
   "file_extension": ".py",
   "mimetype": "text/x-python",
   "name": "python",
   "nbconvert_exporter": "python",
   "pygments_lexer": "ipython3",
   "version": "3.12.6"
  },
  "orig_nbformat": 4,
  "vscode": {
   "interpreter": {
    "hash": "5d1839c54e4e3a571f42bbceb524296e7db56ab4ee5355af498841538456c577"
   }
  }
 },
 "nbformat": 4,
 "nbformat_minor": 2
}
