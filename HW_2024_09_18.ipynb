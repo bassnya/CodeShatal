{
 "cells": [
  {
   "cell_type": "markdown",
   "metadata": {},
   "source": [
    "Задание 1\n",
    "Пользователь вводит с клавиатуры три числа. В зависимости от выбора пользователя программа выводит\n",
    "на экран сумму трёх чисел или произведение трёх чисел."
   ]
  },
  {
   "cell_type": "code",
   "execution_count": 2,
   "metadata": {},
   "outputs": [
    {
     "name": "stdout",
     "output_type": "stream",
     "text": [
      "Сумма трех чисел: 20\n"
     ]
    }
   ],
   "source": [
    "num1 = float(input(\"Введите первое число: \"))\n",
    "num2 = float(input(\"Введите второе число: \"))\n",
    "num3 = float(input(\"Введите третье число: \"))\n",
    "\n",
    "choice = input(\"Рассчитать сумму или произведение? (sum/product): \")\n",
    "\n",
    "if choice == \"sum\":\n",
    "    result = num1 + num2 + num3\n",
    "    print(\"Сумма трех чисел:\", result)\n",
    "elif choice == \"product\":\n",
    "    result = num1 * num2 * num3\n",
    "    print(\"Произведение трех чисел:\", result)\n",
    "else:\n",
    "    print(\"Неверный выбор. Пожалуйста, введите 'sum' или 'product'.\")"
   ]
  },
  {
   "cell_type": "markdown",
   "metadata": {},
   "source": [
    "Задание 2\n",
    "Пользователь вводит с клавиатуры три числа. В за\n",
    "висимости от выбора пользователя программа выводит\n",
    "на экран максимум из трёх, минимум из трёх или среднеарифметическое трёх чисел."
   ]
  },
  {
   "cell_type": "code",
   "execution_count": 14,
   "metadata": {},
   "outputs": [
    {
     "name": "stdout",
     "output_type": "stream",
     "text": [
      "Среднее арифметическое из трех чисел: 2.066666666666667\n"
     ]
    }
   ],
   "source": [
    "num1 = float(input(\"Введите первое число: \"))\n",
    "num2 = float(input(\"Введите второе число: \"))\n",
    "num3 = float(input(\"Введите третье число: \"))\n",
    "\n",
    "choice = input(\"Хотите рассчитать максимум, минимум или среднее арифметическое? (max/min/average): \")\n",
    "\n",
    "if choice == \"max\":\n",
    "    result = max(num1, num2, num3)\n",
    "    print(\"Максимум:\", result)\n",
    "elif choice == \"min\":\n",
    "    result = min(num1, num2, num3)\n",
    "    print(\"Минимум:\", result)\n",
    "elif choice == \"average\":\n",
    "    result = (num1 + num2 + num3) / 3\n",
    "    print(\"Среднее арифметическое из трех чисел:\", result)\n",
    "else:\n",
    "    print(\"Неверный выбор. Пожалуйста, введите 'max', 'min' или 'average'.\")"
   ]
  },
  {
   "cell_type": "markdown",
   "metadata": {},
   "source": [
    "Задание 3\n",
    "Пользователь вводит с клавиатуры количество ме-\n",
    "тров. В зависимости от выбора пользователя программа\n",
    "переводит метры в мили, дюймы или ярды."
   ]
  },
  {
   "cell_type": "code",
   "execution_count": 11,
   "metadata": {},
   "outputs": [
    {
     "name": "stdout",
     "output_type": "stream",
     "text": [
      "Количество миль: 0.001242\n"
     ]
    }
   ],
   "source": [
    "meters = float(input(\"Введите количество метров: \"))\n",
    "\n",
    "choice = input(\"Хотите перевести метры в мили, дюймы или ярды? (miles/inches/yards): \")\n",
    "\n",
    "if choice == \"miles\":\n",
    "    result = meters * 0.000621\n",
    "    print(\"Количество миль:\", result)\n",
    "elif choice == \"inches\":\n",
    "    result = meters * 39.37\n",
    "    print(\"Количество дюймов:\", result)\n",
    "elif choice == \"yards\":\n",
    "    result = meters * 1.09\n",
    "    print(\"Количество ярдов:\", result)\n",
    "else:\n",
    "    print(\"Неверный выбор. Пожалуйста, введите 'miles', 'inches' или 'yards'.\")"
   ]
  }
 ],
 "metadata": {
  "kernelspec": {
   "display_name": "Python 3",
   "language": "python",
   "name": "python3"
  },
  "language_info": {
   "codemirror_mode": {
    "name": "ipython",
    "version": 3
   },
   "file_extension": ".py",
   "mimetype": "text/x-python",
   "name": "python",
   "nbconvert_exporter": "python",
   "pygments_lexer": "ipython3",
   "version": "3.12.5"
  }
 },
 "nbformat": 4,
 "nbformat_minor": 2
}
