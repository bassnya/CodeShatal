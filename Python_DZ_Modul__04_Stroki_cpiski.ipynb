{
 "cells": [
  {
   "cell_type": "markdown",
   "metadata": {},
   "source": [
    "Задание 1\n",
    "Два списка целых заполняются случайными числами.\n",
    "Необходимо:\n",
    "■ Сформировать третий список, содержащий элементы\n",
    "обоих списков;\n",
    "■ Сформировать третий список, содержащий элементы\n",
    "обоих списков без повторений;\n",
    "■ Сформировать третий список, содержащий элементы\n",
    "общие для двух списков;\n",
    "■ Сформировать третий список, содержащий только\n",
    "уникальные элементы каждого из списков;\n",
    "■ Сформировать третий список, содержащий только\n",
    "минимальное и максимальное значение каждого из\n",
    "списков."
   ]
  },
  {
   "cell_type": "code",
   "execution_count": 2,
   "metadata": {},
   "outputs": [
    {
     "name": "stdout",
     "output_type": "stream",
     "text": [
      "Список 1: [8, 20, 90, 1, 13, 86, 69, 54, 30, 4]\n",
      "Список 2: [87, 53, 20, 63, 57, 81, 80, 40, 21, 29]\n",
      "Список 3 (все элементы): [8, 20, 90, 1, 13, 86, 69, 54, 30, 4, 87, 53, 20, 63, 57, 81, 80, 40, 21, 29]\n",
      "Список 4 (все элементы без повторений): [8, 20, 90, 1, 13, 86, 69, 54, 30, 4, 87, 53, 63, 57, 81, 80, 40, 21, 29]\n",
      "Список 5 (общие элементы): [20]\n",
      "Список 6 (уникальные элементы): [8, 90, 1, 13, 86, 69, 54, 30, 4, 87, 53, 63, 57, 81, 80, 40, 21, 29]\n",
      "Список 7 (мин и макс значения): [1, 90, 20, 87]\n"
     ]
    }
   ],
   "source": [
    "import random\n",
    "\n",
    "list1 = [random.randint(1, 100) for _ in range(10)]\n",
    "list2 = [random.randint(1, 100) for _ in range(10)]\n",
    "\n",
    "print(\"Список 1:\", list1)\n",
    "print(\"Список 2:\", list2)\n",
    "\n",
    "list3 = list1 + list2\n",
    "print(\"Список 3 (все элементы):\", list3)\n",
    "\n",
    "# Создаем пустой список\n",
    "list4 = []\n",
    "\n",
    "# Проходим по всем элементам из list1 и list2\n",
    "for element in list1 + list2:\n",
    "    # Если элемент еще не добавлен в list4, то добавляем его\n",
    "    if element not in list4:\n",
    "        list4.append(element)\n",
    "\n",
    "print(\"Список 4 (все элементы без повторений):\", list4)\n",
    "\n",
    "list5 = []\n",
    "\n",
    "# Проходим по всем элементам из list1\n",
    "for element in list1:\n",
    "    # Если элемент также есть в list2, то добавляем его в list5\n",
    "    if element in list2:\n",
    "        list5.append(element)\n",
    "\n",
    "print(\"Список 5 (общие элементы):\", list5)\n",
    "\n",
    "list6 = []\n",
    "\n",
    "# Проходим по всем элементам из list1\n",
    "for element in list1:\n",
    "    # Если элемент нет в list2, то добавляем его в list6\n",
    "    if element not in list2:\n",
    "        list6.append(element)\n",
    "\n",
    "# Проходим по всем элементам из list2\n",
    "for element in list2:\n",
    "    # Если элемент нет в list1, то добавляем его в list6\n",
    "    if element not in list1:\n",
    "        list6.append(element)\n",
    "\n",
    "print(\"Список 6 (уникальные элементы):\", list6)\n",
    "\n",
    "list7 = [min(list1), max(list1), min(list2), max(list2)]\n",
    "print(\"Список 7 (мин и макс значения):\", list7)\n"
   ]
  }
 ],
 "metadata": {
  "kernelspec": {
   "display_name": "Python 3",
   "language": "python",
   "name": "python3"
  },
  "language_info": {
   "codemirror_mode": {
    "name": "ipython",
    "version": 3
   },
   "file_extension": ".py",
   "mimetype": "text/x-python",
   "name": "python",
   "nbconvert_exporter": "python",
   "pygments_lexer": "ipython3",
   "version": "3.12.5"
  }
 },
 "nbformat": 4,
 "nbformat_minor": 2
}
