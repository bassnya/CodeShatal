{
 "cells": [
  {
   "cell_type": "markdown",
   "metadata": {},
   "source": [
    "Задание 1\n",
    "Два списка целых заполняются случайными числами.\n",
    "Необходимо:\n",
    "■ Сформировать третий список, содержащий элементы\n",
    "обоих списков;\n",
    "■ Сформировать третий список, содержащий элементы\n",
    "обоих списков без повторений;\n",
    "■ Сформировать третий список, содержащий элементы\n",
    "общие для двух списков;\n",
    "■ Сформировать третий список, содержащий только\n",
    "уникальные элементы каждого из списков;\n",
    "■ Сформировать третий список, содержащий только\n",
    "минимальное и максимальное значение каждого из\n",
    "списков."
   ]
  },
  {
   "cell_type": "code",
   "execution_count": 3,
   "metadata": {},
   "outputs": [
    {
     "name": "stdout",
     "output_type": "stream",
     "text": [
      "Список 1: [72, 21, 28, 67, 28, 25, 13, 38, 23, 88]\n",
      "Список 2: [33, 1, 37, 96, 9, 35, 90, 21, 65, 13]\n",
      "Список 3 (все элементы): [72, 21, 28, 67, 28, 25, 13, 38, 23, 88, 33, 1, 37, 96, 9, 35, 90, 21, 65, 13]\n",
      "Список 4 (все элементы без повторений): [96, 33, 1, 67, 35, 37, 38, 65, 72, 9, 13, 21, 23, 88, 25, 90, 28]\n",
      "Список 5 (общие элементы): [21, 13]\n",
      "Список 6 (уникальные элементы): [96, 33, 1, 35, 65, 37, 67, 38, 72, 9, 23, 88, 25, 90, 28]\n",
      "Список 7 (мин и макс значения): [13, 88, 1, 96]\n"
     ]
    }
   ],
   "source": [
    "import random\n",
    "\n",
    "list1 = [random.randint(1, 100) for _ in range(10)]\n",
    "list2 = [random.randint(1, 100) for _ in range(10)]\n",
    "\n",
    "print(\"Список 1:\", list1)\n",
    "print(\"Список 2:\", list2)\n",
    "\n",
    "list3 = list1 + list2\n",
    "print(\"Список 3 (все элементы):\", list3)\n",
    "\n",
    "list4 = list(set(list1 + list2))\n",
    "print(\"Список 4 (все элементы без повторений):\", list4)\n",
    "\n",
    "list5 = [element for element in list1 if element in list2]\n",
    "print(\"Список 5 (общие элементы):\", list5)\n",
    "\n",
    "list6 = list(set(list1) ^ set(list2))\n",
    "print(\"Список 6 (уникальные элементы):\", list6)\n",
    "\n",
    "list7 = [min(list1), max(list1), min(list2), max(list2)]\n",
    "print(\"Список 7 (мин и макс значения):\", list7)\n"
   ]
  }
 ],
 "metadata": {
  "kernelspec": {
   "display_name": "Python 3",
   "language": "python",
   "name": "python3"
  },
  "language_info": {
   "codemirror_mode": {
    "name": "ipython",
    "version": 3
   },
   "file_extension": ".py",
   "mimetype": "text/x-python",
   "name": "python",
   "nbconvert_exporter": "python",
   "pygments_lexer": "ipython3",
   "version": "3.12.5"
  }
 },
 "nbformat": 4,
 "nbformat_minor": 2
}
