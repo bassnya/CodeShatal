{
 "cells": [
  {
   "cell_type": "markdown",
   "metadata": {},
   "source": [
    "Задание 1\n",
    "Показать на экран все простые числа в диапазоне,\n",
    "указанном пользователем. Число называется простым,\n",
    "если оно делится без остатка только на себя и на единицу.\n",
    "Например, три — это простое число, а четыре нет."
   ]
  },
  {
   "cell_type": "code",
   "execution_count": null,
   "metadata": {},
   "outputs": [],
   "source": [
    "n1 = int(input(\"Введите начало диапазона: \"))  \n",
    "n2 = int(input(\"Введите конец диапазона: \"))  \n",
    "\n",
    "print(\"Простые числа в диапазоне от\", n1, \"до\", n2, \":\")  \n",
    "\n",
    "for num in range(n1, n2 + 1):\n",
    "    # проверяем, является ли число простым\n",
    "    if num > 1:  # простые числа больше 1\n",
    "        for i in range(2, num):  # проверяем от 2 до num\n",
    "            if num % i == 0:  # если число делится на i, то не простое\n",
    "                break  # прерываем цикл, если не простое\n",
    "        else:  \n",
    "            print(num) "
   ]
  },
  {
   "cell_type": "markdown",
   "metadata": {},
   "source": [
    "Задание 2\n",
    "Показать на экране таблицу умножения для всех чисел\n",
    "от 1 до 10. Например:\n",
    "1 * 1 = 1 1 * 2 = 2 ….. 1 * 10 = 10\n",
    ".........................................................................\n",
    "10 * 1 = 10 10 * 2 = 20 …. 10 * 10 = 100."
   ]
  },
  {
   "cell_type": "code",
   "execution_count": null,
   "metadata": {},
   "outputs": [],
   "source": [
    "for i in range(1, 11):\n",
    " for j in range(1, 11):\n",
    "    print(i * j, end=\"\\t\")\n",
    " print(\"\\n\")"
   ]
  },
  {
   "cell_type": "markdown",
   "metadata": {},
   "source": [
    "Задание 3\n",
    "Показать на экран таблицу умножения в диапазоне,\n",
    "указанном пользователем. Например, если пользователь\n",
    "указал 3 и 5, таблица может выглядеть так\n",
    "3*1 = 3 3*2 = 6 3*3 = 9 ... 3 * 10 = 30\n",
    ".....................................................................................\n",
    "5*1 = 5 5 *2 = 10 5 *3 = 15 ... 5 * 10 = 50"
   ]
  },
  {
   "cell_type": "code",
   "execution_count": null,
   "metadata": {},
   "outputs": [],
   "source": [
    "n1 = int(input(\"Введите начало диапазона: \"))\n",
    "n2 = int(input(\"Введите конец диапазона: \"))\n",
    "\n",
    "for i in range(n1, n2 + 1):\n",
    "    for j in range(1, 11):\n",
    "        result = i * j\n",
    "        print(f'{i} * {j} = {result}', end='  ')\n",
    "    print(\"\\n\")"
   ]
  }
 ],
 "metadata": {
  "kernelspec": {
   "display_name": "Python 3",
   "language": "python",
   "name": "python3"
  },
  "language_info": {
   "codemirror_mode": {
    "name": "ipython",
    "version": 3
   },
   "file_extension": ".py",
   "mimetype": "text/x-python",
   "name": "python",
   "nbconvert_exporter": "python",
   "pygments_lexer": "ipython3",
   "version": "3.12.5"
  }
 },
 "nbformat": 4,
 "nbformat_minor": 2
}
